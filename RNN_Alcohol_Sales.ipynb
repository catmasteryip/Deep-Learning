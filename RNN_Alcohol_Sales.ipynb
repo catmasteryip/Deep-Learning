{
  "nbformat": 4,
  "nbformat_minor": 0,
  "metadata": {
    "colab": {
      "name": "RNN on time series.ipynb",
      "provenance": [],
      "collapsed_sections": [],
      "mount_file_id": "1a-xWe6zhewUflK0g7hih3P1sFcTv6FCA",
      "authorship_tag": "ABX9TyNjSf2io2Jh7+7u6dPQUilL",
      "include_colab_link": true
    },
    "kernelspec": {
      "name": "python3",
      "display_name": "Python 3"
    },
    "accelerator": "GPU"
  },
  "cells": [
    {
      "cell_type": "markdown",
      "metadata": {
        "id": "view-in-github",
        "colab_type": "text"
      },
      "source": [
        "<a href=\"https://colab.research.google.com/github/catmasteryip/Deep-Learning/blob/master/RNN_NYC_Taxi.ipynb\" target=\"_parent\"><img src=\"https://colab.research.google.com/assets/colab-badge.svg\" alt=\"Open In Colab\"/></a>"
      ]
    },
    {
      "cell_type": "code",
      "metadata": {
        "id": "Rw5fNv6SfRUN",
        "colab_type": "code",
        "colab": {}
      },
      "source": [
        "jimport torch \n",
        "import torch.nn as nn\n",
        "import numpy as np\n",
        "import pandas as pd\n",
        "import matplotlib.pyplot as plt\n",
        "from pandas.plotting import register_matplotlib_converters\n",
        "register_matplotlib_converters()"
      ],
      "execution_count": 0,
      "outputs": []
    },
    {
      "cell_type": "code",
      "metadata": {
        "id": "m6fFWAlfmfc-",
        "colab_type": "code",
        "colab": {}
      },
      "source": [
        ""
      ],
      "execution_count": 0,
      "outputs": []
    },
    {
      "cell_type": "code",
      "metadata": {
        "id": "9kDumMbqfZX3",
        "colab_type": "code",
        "outputId": "fb0a7348-3d47-4f6e-a6e5-effaff9bd2e6",
        "colab": {
          "base_uri": "https://localhost:8080/",
          "height": 35
        }
      },
      "source": [
        "pwd"
      ],
      "execution_count": 0,
      "outputs": [
        {
          "output_type": "execute_result",
          "data": {
            "text/plain": [
              "'/content'"
            ]
          },
          "metadata": {
            "tags": []
          },
          "execution_count": 2
        }
      ]
    },
    {
      "cell_type": "code",
      "metadata": {
        "id": "aBqnY8ywf-uq",
        "colab_type": "code",
        "colab": {}
      },
      "source": [
        "df = pd.read_csv('drive/My Drive/Colab Notebooks/Alcohol_Sales.csv',index_col=0,parse_dates=True)"
      ],
      "execution_count": 0,
      "outputs": []
    },
    {
      "cell_type": "code",
      "metadata": {
        "id": "y0dJZQ5JgHcQ",
        "colab_type": "code",
        "outputId": "d4cc0880-0a57-4f4e-ebc2-b1d082fbff23",
        "colab": {
          "base_uri": "https://localhost:8080/",
          "height": 233
        }
      },
      "source": [
        "df.head()"
      ],
      "execution_count": 0,
      "outputs": [
        {
          "output_type": "execute_result",
          "data": {
            "text/html": [
              "<div>\n",
              "<style scoped>\n",
              "    .dataframe tbody tr th:only-of-type {\n",
              "        vertical-align: middle;\n",
              "    }\n",
              "\n",
              "    .dataframe tbody tr th {\n",
              "        vertical-align: top;\n",
              "    }\n",
              "\n",
              "    .dataframe thead th {\n",
              "        text-align: right;\n",
              "    }\n",
              "</style>\n",
              "<table border=\"1\" class=\"dataframe\">\n",
              "  <thead>\n",
              "    <tr style=\"text-align: right;\">\n",
              "      <th></th>\n",
              "      <th>S4248SM144NCEN</th>\n",
              "    </tr>\n",
              "    <tr>\n",
              "      <th>DATE</th>\n",
              "      <th></th>\n",
              "    </tr>\n",
              "  </thead>\n",
              "  <tbody>\n",
              "    <tr>\n",
              "      <th>1992-01-01</th>\n",
              "      <td>3459</td>\n",
              "    </tr>\n",
              "    <tr>\n",
              "      <th>1992-02-01</th>\n",
              "      <td>3458</td>\n",
              "    </tr>\n",
              "    <tr>\n",
              "      <th>1992-03-01</th>\n",
              "      <td>4002</td>\n",
              "    </tr>\n",
              "    <tr>\n",
              "      <th>1992-04-01</th>\n",
              "      <td>4564</td>\n",
              "    </tr>\n",
              "    <tr>\n",
              "      <th>1992-05-01</th>\n",
              "      <td>4221</td>\n",
              "    </tr>\n",
              "  </tbody>\n",
              "</table>\n",
              "</div>"
            ],
            "text/plain": [
              "            S4248SM144NCEN\n",
              "DATE                      \n",
              "1992-01-01            3459\n",
              "1992-02-01            3458\n",
              "1992-03-01            4002\n",
              "1992-04-01            4564\n",
              "1992-05-01            4221"
            ]
          },
          "metadata": {
            "tags": []
          },
          "execution_count": 4
        }
      ]
    },
    {
      "cell_type": "code",
      "metadata": {
        "id": "xJ-Wku2bgL7V",
        "colab_type": "code",
        "outputId": "e2756f28-2722-4d7c-9a1a-16445fc3fad5",
        "colab": {
          "base_uri": "https://localhost:8080/",
          "height": 35
        }
      },
      "source": [
        "len(df)"
      ],
      "execution_count": 0,
      "outputs": [
        {
          "output_type": "execute_result",
          "data": {
            "text/plain": [
              "325"
            ]
          },
          "metadata": {
            "tags": []
          },
          "execution_count": 5
        }
      ]
    },
    {
      "cell_type": "code",
      "metadata": {
        "id": "eJF5A4xagUd_",
        "colab_type": "code",
        "colab": {}
      },
      "source": [
        "df = df.dropna()"
      ],
      "execution_count": 0,
      "outputs": []
    },
    {
      "cell_type": "code",
      "metadata": {
        "id": "ZaBulSlfgV9T",
        "colab_type": "code",
        "outputId": "1dedea51-2832-4b58-f4ce-e6c47d75e550",
        "colab": {
          "base_uri": "https://localhost:8080/",
          "height": 35
        }
      },
      "source": [
        "len(df)"
      ],
      "execution_count": 0,
      "outputs": [
        {
          "output_type": "execute_result",
          "data": {
            "text/plain": [
              "325"
            ]
          },
          "metadata": {
            "tags": []
          },
          "execution_count": 7
        }
      ]
    },
    {
      "cell_type": "code",
      "metadata": {
        "id": "IFuSddvVgWx-",
        "colab_type": "code",
        "outputId": "b5e2495f-7dc0-42d4-8dbe-0d613f806559",
        "colab": {
          "base_uri": "https://localhost:8080/",
          "height": 298
        }
      },
      "source": [
        "df.plot(figsize=(10,4))"
      ],
      "execution_count": 0,
      "outputs": [
        {
          "output_type": "execute_result",
          "data": {
            "text/plain": [
              "<matplotlib.axes._subplots.AxesSubplot at 0x7f299c105828>"
            ]
          },
          "metadata": {
            "tags": []
          },
          "execution_count": 8
        },
        {
          "output_type": "display_data",
          "data": {
            "image/png": "[encoded data removed]",
            "text/plain": [
              "<Figure size 720x288 with 1 Axes>"
            ]
          },
          "metadata": {
            "tags": [],
            "needs_background": "light"
          }
        }
      ]
    },
    {
      "cell_type": "code",
      "metadata": {
        "id": "iVdIEKXSgdpE",
        "colab_type": "code",
        "outputId": "8b2a825d-27ee-4ba3-f0f1-2b91dfc09889",
        "colab": {
          "base_uri": "https://localhost:8080/",
          "height": 35
        }
      },
      "source": [
        "df.columns"
      ],
      "execution_count": 0,
      "outputs": [
        {
          "output_type": "execute_result",
          "data": {
            "text/plain": [
              "Index(['S4248SM144NCEN'], dtype='object')"
            ]
          },
          "metadata": {
            "tags": []
          },
          "execution_count": 9
        }
      ]
    },
    {
      "cell_type": "code",
      "metadata": {
        "id": "XdU_ubD_gm5r",
        "colab_type": "code",
        "colab": {}
      },
      "source": [
        "y = df['S4248SM144NCEN'].values.astype(float)"
      ],
      "execution_count": 0,
      "outputs": []
    },
    {
      "cell_type": "code",
      "metadata": {
        "id": "eVlzujQpgn1K",
        "colab_type": "code",
        "colab": {}
      },
      "source": [
        "test_size = 12"
      ],
      "execution_count": 0,
      "outputs": []
    },
    {
      "cell_type": "code",
      "metadata": {
        "id": "co7joIaogvR0",
        "colab_type": "code",
        "colab": {}
      },
      "source": [
        "train_set = y[:-test_size]\n",
        "test_set = y[-test_size:]\n"
      ],
      "execution_count": 0,
      "outputs": []
    },
    {
      "cell_type": "code",
      "metadata": {
        "id": "_vX8igb8g5XH",
        "colab_type": "code",
        "outputId": "35dd9865-d7b3-4598-fdcc-95b5a5ff24d4",
        "colab": {
          "base_uri": "https://localhost:8080/",
          "height": 52
        }
      },
      "source": [
        "test_set"
      ],
      "execution_count": 0,
      "outputs": [
        {
          "output_type": "execute_result",
          "data": {
            "text/plain": [
              "array([10415., 12683., 11919., 14138., 14583., 12640., 14257., 12396.,\n",
              "       13914., 14174., 15504., 10718.])"
            ]
          },
          "metadata": {
            "tags": []
          },
          "execution_count": 13
        }
      ]
    },
    {
      "cell_type": "code",
      "metadata": {
        "id": "OxNotMgeg5wl",
        "colab_type": "code",
        "colab": {}
      },
      "source": [
        "from sklearn.preprocessing import MinMaxScaler"
      ],
      "execution_count": 0,
      "outputs": []
    },
    {
      "cell_type": "code",
      "metadata": {
        "id": "a60O97zmhIcd",
        "colab_type": "code",
        "colab": {}
      },
      "source": [
        "scaler = MinMaxScaler(feature_range=(-1,1))"
      ],
      "execution_count": 0,
      "outputs": []
    },
    {
      "cell_type": "code",
      "metadata": {
        "id": "5LVNs3_LhNeb",
        "colab_type": "code",
        "outputId": "db4bff52-e8b7-4f2d-a7cf-83c6bf95725d",
        "colab": {
          "base_uri": "https://localhost:8080/",
          "height": 35
        }
      },
      "source": [
        "scaler.fit(train_set.reshape(-1,1))"
      ],
      "execution_count": 0,
      "outputs": [
        {
          "output_type": "execute_result",
          "data": {
            "text/plain": [
              "MinMaxScaler(copy=True, feature_range=(-1, 1))"
            ]
          },
          "metadata": {
            "tags": []
          },
          "execution_count": 16
        }
      ]
    },
    {
      "cell_type": "code",
      "metadata": {
        "id": "wPpN1byThivf",
        "colab_type": "code",
        "colab": {}
      },
      "source": [
        "train_norm = scaler.transform(train_set.reshape(-1,1))"
      ],
      "execution_count": 0,
      "outputs": []
    },
    {
      "cell_type": "code",
      "metadata": {
        "id": "pLgAhuvUhpjL",
        "colab_type": "code",
        "colab": {}
      },
      "source": [
        "#train_norm"
      ],
      "execution_count": 0,
      "outputs": []
    },
    {
      "cell_type": "code",
      "metadata": {
        "id": "daXJVFPbhq_1",
        "colab_type": "code",
        "colab": {}
      },
      "source": [
        "#training size: len(y)-test_size-window_size"
      ],
      "execution_count": 0,
      "outputs": []
    },
    {
      "cell_type": "code",
      "metadata": {
        "id": "xssQxxlthx-n",
        "colab_type": "code",
        "colab": {}
      },
      "source": [
        "train_norm = torch.FloatTensor(train_norm).view(-1)"
      ],
      "execution_count": 0,
      "outputs": []
    },
    {
      "cell_type": "code",
      "metadata": {
        "id": "LGLO4Xwdh8IP",
        "colab_type": "code",
        "outputId": "0775fbfe-91d2-4171-8c09-495e93144250",
        "colab": {
          "base_uri": "https://localhost:8080/",
          "height": 35
        }
      },
      "source": [
        "train_norm.shape"
      ],
      "execution_count": 0,
      "outputs": [
        {
          "output_type": "execute_result",
          "data": {
            "text/plain": [
              "torch.Size([313])"
            ]
          },
          "metadata": {
            "tags": []
          },
          "execution_count": 21
        }
      ]
    },
    {
      "cell_type": "code",
      "metadata": {
        "id": "U_0_-BdUh8vC",
        "colab_type": "code",
        "colab": {}
      },
      "source": [
        "window_size = 12"
      ],
      "execution_count": 0,
      "outputs": []
    },
    {
      "cell_type": "code",
      "metadata": {
        "id": "xzlx4zjJiAZd",
        "colab_type": "code",
        "colab": {}
      },
      "source": [
        "def input_data(seq,ws):\n",
        "  out = []\n",
        "  L = len(seq)\n",
        "  for i in range(L-ws):\n",
        "    window = seq[i:i+ws]\n",
        "    label = seq[i+ws:i+ws+1]\n",
        "    out.append((window,label))\n",
        "  return out"
      ],
      "execution_count": 0,
      "outputs": []
    },
    {
      "cell_type": "code",
      "metadata": {
        "id": "gPxqGXwbiarR",
        "colab_type": "code",
        "colab": {}
      },
      "source": [
        "train_data = input_data(train_norm,window_size)"
      ],
      "execution_count": 0,
      "outputs": []
    },
    {
      "cell_type": "code",
      "metadata": {
        "id": "_dNRjGVVidjE",
        "colab_type": "code",
        "outputId": "5da17402-60a3-47df-a142-caebd0683735",
        "colab": {
          "base_uri": "https://localhost:8080/",
          "height": 35
        }
      },
      "source": [
        "len(train_data)"
      ],
      "execution_count": 0,
      "outputs": [
        {
          "output_type": "execute_result",
          "data": {
            "text/plain": [
              "301"
            ]
          },
          "metadata": {
            "tags": []
          },
          "execution_count": 25
        }
      ]
    },
    {
      "cell_type": "code",
      "metadata": {
        "id": "K6bDuf7Aiey-",
        "colab_type": "code",
        "outputId": "2d08edfd-fb81-4fb6-c8f3-063f822a24bd",
        "colab": {
          "base_uri": "https://localhost:8080/",
          "height": 72
        }
      },
      "source": [
        "train_data[0]"
      ],
      "execution_count": 0,
      "outputs": [
        {
          "output_type": "execute_result",
          "data": {
            "text/plain": [
              "(tensor([-0.9268, -0.9270, -0.8340, -0.7379, -0.7966, -0.7439, -0.7547, -0.8109,\n",
              "         -0.8128, -0.7901, -0.7933, -0.6743]), tensor([-1.]))"
            ]
          },
          "metadata": {
            "tags": []
          },
          "execution_count": 26
        }
      ]
    },
    {
      "cell_type": "code",
      "metadata": {
        "id": "V0c1AEqxigJE",
        "colab_type": "code",
        "colab": {}
      },
      "source": [
        "class LSTMnetwork(nn.Module):\n",
        "  def __init__(self,input_size=1,hidden_size=100,output_size=1):\n",
        "    super().__init__()\n",
        "    self.hidden_size = hidden_size\n",
        "    self.lstm = nn.LSTM(input_size,hidden_size)\n",
        "    self.linear = nn.Linear(hidden_size,output_size)\n",
        "    self.hidden = (torch.zeros(1,1,self.hidden_size),\n",
        "                   torch.zeros(1,1,self.hidden_size))\n",
        "  def forward(self,seq):\n",
        "    lstm_out,self.hidden = self.lstm(\n",
        "        seq.view(len(seq),1,-1),self.hidden\n",
        "    )\n",
        "    pred = self.linear(lstm_out.view(len(seq),-1))\n",
        "    return pred[-1]"
      ],
      "execution_count": 0,
      "outputs": []
    },
    {
      "cell_type": "code",
      "metadata": {
        "id": "KjzseffXjkO8",
        "colab_type": "code",
        "colab": {}
      },
      "source": [
        "torch.manual_seed(101)\n",
        "model = LSTMnetwork()\n",
        "criterion = nn.MSELoss()\n",
        "optimizer = torch.optim.Adam(model.parameters(),lr=0.001)"
      ],
      "execution_count": 0,
      "outputs": []
    },
    {
      "cell_type": "code",
      "metadata": {
        "id": "9zFzkeCrjsYj",
        "colab_type": "code",
        "outputId": "8b4b3ec7-f88c-4050-fde0-02a908330d30",
        "colab": {
          "base_uri": "https://localhost:8080/",
          "height": 88
        }
      },
      "source": [
        "model"
      ],
      "execution_count": 0,
      "outputs": [
        {
          "output_type": "execute_result",
          "data": {
            "text/plain": [
              "LSTMnetwork(\n",
              "  (lstm): LSTM(1, 100)\n",
              "  (linear): Linear(in_features=100, out_features=1, bias=True)\n",
              ")"
            ]
          },
          "metadata": {
            "tags": []
          },
          "execution_count": 29
        }
      ]
    },
    {
      "cell_type": "code",
      "metadata": {
        "id": "gqzqSxKNjtD1",
        "colab_type": "code",
        "outputId": "197b24e2-bbdf-479e-afe6-a04a609b08f1",
        "colab": {
          "base_uri": "https://localhost:8080/",
          "height": 1000
        }
      },
      "source": [
        "epochs = 100\n",
        "import time\n",
        "start_time = time.time()\n",
        "for epoch in range(epochs):\n",
        "  for seq, y_train in train_data:\n",
        "    optimizer.zero_grad()\n",
        "    model.hidden = (torch.zeros(1,1,model.hidden_size),\n",
        "                   torch.zeros(1,1,model.hidden_size))\n",
        "    y_pred = model(seq)\n",
        "    loss = criterion(y_pred,y_train)\n",
        "    loss.backward()\n",
        "    optimizer.step()\n",
        "  print(f'Epoch {epoch} Loss {loss.item()}')\n",
        "total_time = time.time()-start_time\n",
        "print(total_time/60)"
      ],
      "execution_count": 0,
      "outputs": [
        {
          "output_type": "stream",
          "text": [
            "Epoch 0 Loss 0.2531020939350128\n",
            "Epoch 1 Loss 0.3753201961517334\n",
            "Epoch 2 Loss 0.390271931886673\n",
            "Epoch 3 Loss 0.34934717416763306\n",
            "Epoch 4 Loss 0.33085644245147705\n",
            "Epoch 5 Loss 0.33229973912239075\n",
            "Epoch 6 Loss 0.3267035484313965\n",
            "Epoch 7 Loss 0.32074135541915894\n",
            "Epoch 8 Loss 0.3065353333950043\n",
            "Epoch 9 Loss 0.29518043994903564\n",
            "Epoch 10 Loss 0.2693434953689575\n",
            "Epoch 11 Loss 0.259985089302063\n",
            "Epoch 12 Loss 0.24665780365467072\n",
            "Epoch 13 Loss 0.22403952479362488\n",
            "Epoch 14 Loss 0.1860266476869583\n",
            "Epoch 15 Loss 0.1856127232313156\n",
            "Epoch 16 Loss 0.17209510505199432\n",
            "Epoch 17 Loss 0.25163033604621887\n",
            "Epoch 18 Loss 0.2255789041519165\n",
            "Epoch 19 Loss 0.17452962696552277\n",
            "Epoch 20 Loss 0.2023983746767044\n",
            "Epoch 21 Loss 0.2080777883529663\n",
            "Epoch 22 Loss 0.16636909544467926\n",
            "Epoch 23 Loss 0.1761568933725357\n",
            "Epoch 24 Loss 0.11969683319330215\n",
            "Epoch 25 Loss 0.09812668710947037\n",
            "Epoch 26 Loss 0.04562745988368988\n",
            "Epoch 27 Loss 0.07010915130376816\n",
            "Epoch 28 Loss 0.00023413714370690286\n",
            "Epoch 29 Loss 0.10963207483291626\n",
            "Epoch 30 Loss 0.028244895860552788\n",
            "Epoch 31 Loss 0.006606752052903175\n",
            "Epoch 32 Loss 0.021775923669338226\n",
            "Epoch 33 Loss 0.019619593396782875\n",
            "Epoch 34 Loss 0.034402068704366684\n",
            "Epoch 35 Loss 0.043728332966566086\n",
            "Epoch 36 Loss 0.026563195511698723\n",
            "Epoch 37 Loss 0.00016012162086553872\n",
            "Epoch 38 Loss 0.005046199541538954\n",
            "Epoch 39 Loss 0.0028430300299078226\n",
            "Epoch 40 Loss 0.0024479746352881193\n",
            "Epoch 41 Loss 0.002002436900511384\n",
            "Epoch 42 Loss 0.0018782372353598475\n",
            "Epoch 43 Loss 0.0015967281069606543\n",
            "Epoch 44 Loss 0.002666379092261195\n",
            "Epoch 45 Loss 0.0032118093222379684\n",
            "Epoch 46 Loss 0.006068534217774868\n",
            "Epoch 47 Loss 0.006881754845380783\n",
            "Epoch 48 Loss 0.007493592798709869\n",
            "Epoch 49 Loss 0.006297078914940357\n",
            "Epoch 50 Loss 0.01581987366080284\n",
            "Epoch 51 Loss 0.004374378826469183\n",
            "Epoch 52 Loss 0.0030044883023947477\n",
            "Epoch 53 Loss 0.004104181192815304\n",
            "Epoch 54 Loss 0.001090729609131813\n",
            "Epoch 55 Loss 0.0016094958409667015\n",
            "Epoch 56 Loss 9.834981028689072e-05\n",
            "Epoch 57 Loss 0.00045636907452717423\n",
            "Epoch 58 Loss 0.0006780580733902752\n",
            "Epoch 59 Loss 0.0005183183238841593\n",
            "Epoch 60 Loss 0.0009074289700947702\n",
            "Epoch 61 Loss 0.00020382304501254112\n",
            "Epoch 62 Loss 0.0003308025188744068\n",
            "Epoch 63 Loss 0.0002756737230811268\n",
            "Epoch 64 Loss 0.00044567827717401087\n",
            "Epoch 65 Loss 4.3418298446340486e-05\n",
            "Epoch 66 Loss 4.7229070787579985e-07\n",
            "Epoch 67 Loss 6.5424133026681375e-06\n",
            "Epoch 68 Loss 1.3347111234907061e-05\n",
            "Epoch 69 Loss 2.9917315259808674e-05\n",
            "Epoch 70 Loss 0.00011996433022432029\n",
            "Epoch 71 Loss 8.430882735410705e-05\n",
            "Epoch 72 Loss 3.720107883964374e-07\n",
            "Epoch 73 Loss 4.46921621914953e-05\n",
            "Epoch 74 Loss 1.602254451427143e-05\n",
            "Epoch 75 Loss 3.2363139325752854e-05\n",
            "Epoch 76 Loss 1.9126866845908808e-06\n",
            "Epoch 77 Loss 0.0002940205449704081\n",
            "Epoch 78 Loss 0.0011932620545849204\n",
            "Epoch 79 Loss 5.7085617299890146e-06\n",
            "Epoch 80 Loss 0.0004763166652992368\n",
            "Epoch 81 Loss 6.359926919685677e-05\n",
            "Epoch 82 Loss 5.695010258932598e-05\n",
            "Epoch 83 Loss 4.493935557547957e-05\n",
            "Epoch 84 Loss 0.0003608437837101519\n",
            "Epoch 85 Loss 0.0006430069333873689\n",
            "Epoch 86 Loss 0.00048678560415282845\n",
            "Epoch 87 Loss 0.0012211709981784225\n",
            "Epoch 88 Loss 0.00018648384138941765\n",
            "Epoch 89 Loss 0.00041727678035385907\n",
            "Epoch 90 Loss 0.0005146145704202354\n",
            "Epoch 91 Loss 0.00020464589761104435\n",
            "Epoch 92 Loss 0.0001785445783752948\n",
            "Epoch 93 Loss 0.0001964903058251366\n",
            "Epoch 94 Loss 0.0008513627108186483\n",
            "Epoch 95 Loss 0.00027054891688749194\n",
            "Epoch 96 Loss 0.0008032597252167761\n",
            "Epoch 97 Loss 0.0001412320270901546\n",
            "Epoch 98 Loss 0.00042996631236746907\n",
            "Epoch 99 Loss 5.353727829060517e-05\n",
            "1.4928532044092815\n"
          ],
          "name": "stdout"
        }
      ]
    },
    {
      "cell_type": "code",
      "metadata": {
        "id": "0pjkEus0kNxb",
        "colab_type": "code",
        "colab": {}
      },
      "source": [
        "future = 12\n",
        "preds = train_norm[-window_size:].tolist()\n",
        "model.eval()\n",
        "for i in range(future):\n",
        "  seq = torch.FloatTensor(preds[-window_size:])\n",
        "  with torch.no_grad():\n",
        "    model.hidden = (torch.zeros(1,1,model.hidden_size),\n",
        "                    torch.zeros(1,1,model.hidden_size))\n",
        "    preds.append(model(seq).item())"
      ],
      "execution_count": 0,
      "outputs": []
    },
    {
      "cell_type": "code",
      "metadata": {
        "id": "P1KSsJV0mYTK",
        "colab_type": "code",
        "outputId": "0ef75c39-59e2-4ddb-8e19-d8b66db4aa4a",
        "colab": {
          "base_uri": "https://localhost:8080/",
          "height": 229
        }
      },
      "source": [
        "preds[window_size:]"
      ],
      "execution_count": 0,
      "outputs": [
        {
          "output_type": "execute_result",
          "data": {
            "text/plain": [
              "[0.23070532083511353,\n",
              " 0.6841098070144653,\n",
              " 0.41134074330329895,\n",
              " 0.8055102825164795,\n",
              " 0.9775031805038452,\n",
              " 0.4130246937274933,\n",
              " 0.7403477430343628,\n",
              " 0.544337809085846,\n",
              " 0.59402996301651,\n",
              " 0.8140759468078613,\n",
              " 0.9427725672721863,\n",
              " 0.12135237455368042]"
            ]
          },
          "metadata": {
            "tags": []
          },
          "execution_count": 33
        }
      ]
    },
    {
      "cell_type": "code",
      "metadata": {
        "id": "2RoEaGlRnE-r",
        "colab_type": "code",
        "colab": {}
      },
      "source": [
        "true_predictions = scaler.inverse_transform(np.array(preds[window_size:]).reshape(-1,1))"
      ],
      "execution_count": 0,
      "outputs": []
    },
    {
      "cell_type": "code",
      "metadata": {
        "id": "isGXRq2YnPSr",
        "colab_type": "code",
        "outputId": "6141bb41-d8ec-49f0-dee5-b4f7b93f1686",
        "colab": {
          "base_uri": "https://localhost:8080/",
          "height": 229
        }
      },
      "source": [
        "true_predictions"
      ],
      "execution_count": 0,
      "outputs": [
        {
          "output_type": "execute_result",
          "data": {
            "text/plain": [
              "array([[10230.01077422],\n",
              "       [12882.20031613],\n",
              "       [11286.63767795],\n",
              "       [13592.33239758],\n",
              "       [14598.40485436],\n",
              "       [11296.48794596],\n",
              "       [13211.16412288],\n",
              "       [12064.60401425],\n",
              "       [12355.27826867],\n",
              "       [13642.43725085],\n",
              "       [14395.24813226],\n",
              "       [ 9590.35071495]])"
            ]
          },
          "metadata": {
            "tags": []
          },
          "execution_count": 35
        }
      ]
    },
    {
      "cell_type": "code",
      "metadata": {
        "id": "XAIV7FHbnQPp",
        "colab_type": "code",
        "outputId": "6a93fb4f-b295-45f2-f43c-24912c740bbc",
        "colab": {
          "base_uri": "https://localhost:8080/",
          "height": 265
        }
      },
      "source": [
        "df['S4248SM144NCEN'][-12:]"
      ],
      "execution_count": 0,
      "outputs": [
        {
          "output_type": "execute_result",
          "data": {
            "text/plain": [
              "DATE\n",
              "2018-02-01    10415\n",
              "2018-03-01    12683\n",
              "2018-04-01    11919\n",
              "2018-05-01    14138\n",
              "2018-06-01    14583\n",
              "2018-07-01    12640\n",
              "2018-08-01    14257\n",
              "2018-09-01    12396\n",
              "2018-10-01    13914\n",
              "2018-11-01    14174\n",
              "2018-12-01    15504\n",
              "2019-01-01    10718\n",
              "Name: S4248SM144NCEN, dtype: int64"
            ]
          },
          "metadata": {
            "tags": []
          },
          "execution_count": 36
        }
      ]
    },
    {
      "cell_type": "code",
      "metadata": {
        "id": "yZ582A-enTwT",
        "colab_type": "code",
        "outputId": "542f48bd-f181-41d7-9ec4-72148dcca8cb",
        "colab": {
          "base_uri": "https://localhost:8080/",
          "height": 70
        }
      },
      "source": [
        "x = np.arange('2018-02-01','2019-02-01',dtype='datetime64[M]')\n",
        "x"
      ],
      "execution_count": 0,
      "outputs": [
        {
          "output_type": "execute_result",
          "data": {
            "text/plain": [
              "array(['2018-02', '2018-03', '2018-04', '2018-05', '2018-06', '2018-07',\n",
              "       '2018-08', '2018-09', '2018-10', '2018-11', '2018-12', '2019-01'],\n",
              "      dtype='datetime64[M]')"
            ]
          },
          "metadata": {
            "tags": []
          },
          "execution_count": 38
        }
      ]
    },
    {
      "cell_type": "code",
      "metadata": {
        "id": "dfA0uRBcnlXl",
        "colab_type": "code",
        "outputId": "6cf851c2-97b1-409b-8f73-ffaadb44d2e4",
        "colab": {
          "base_uri": "https://localhost:8080/",
          "height": 243
        }
      },
      "source": [
        "plt.figure(figsize=(12,4))\n",
        "plt.title('Beer, Wine and Alcohol Sales')\n",
        "plt.ylabel('Sales (millions of dollars')\n",
        "plt.grid(True)\n",
        "plt.autoscale(axis='x',tight=True)\n",
        "plt.plot(df['S4248SM144NCEN'])\n",
        "plt.plot(x,true_predictions)\n",
        "plt.show()"
      ],
      "execution_count": 0,
      "outputs": [
        {
          "output_type": "display_data",
          "data": {
            "image/png": "[encoded data removed]",
            "text/plain": [
              "<Figure size 864x288 with 1 Axes>"
            ]
          },
          "metadata": {
            "tags": [],
            "needs_background": "light"
          }
        }
      ]
    },
    {
      "cell_type": "code",
      "metadata": {
        "id": "LPXl4T0_n4_y",
        "colab_type": "code",
        "outputId": "08b4f39a-78df-4428-d2ee-871203316682",
        "colab": {
          "base_uri": "https://localhost:8080/",
          "height": 241
        }
      },
      "source": [
        "fig = plt.figure(figsize=(12,4))\n",
        "plt.title('Beer, Wine and Alcohol Sales')\n",
        "plt.ylabel('Sales (millions of dollars')\n",
        "plt.grid(True)\n",
        "plt.autoscale(axis='x',tight=True)\n",
        "fig.autofmt_xdate()\n",
        "plt.plot(df['S4248SM144NCEN']['2017-01-01':])\n",
        "plt.plot(x,true_predictions)\n",
        "plt.show()"
      ],
      "execution_count": 0,
      "outputs": [
        {
          "output_type": "display_data",
          "data": {
            "image/png": "[encoded data removed]",
            "text/plain": [
              "<Figure size 864x288 with 1 Axes>"
            ]
          },
          "metadata": {
            "tags": [],
            "needs_background": "light"
          }
        }
      ]
    },
    {
      "cell_type": "code",
      "metadata": {
        "id": "vqtSAQkmq6lm",
        "colab_type": "code",
        "outputId": "aa84ebe7-3322-44a5-e338-11f0c10be498",
        "colab": {
          "base_uri": "https://localhost:8080/",
          "height": 52
        }
      },
      "source": [
        "y[-12:]"
      ],
      "execution_count": 0,
      "outputs": [
        {
          "output_type": "execute_result",
          "data": {
            "text/plain": [
              "array([10415., 12683., 11919., 14138., 14583., 12640., 14257., 12396.,\n",
              "       13914., 14174., 15504., 10718.])"
            ]
          },
          "metadata": {
            "tags": []
          },
          "execution_count": 54
        }
      ]
    },
    {
      "cell_type": "code",
      "metadata": {
        "id": "3EuzzxOhoDbI",
        "colab_type": "code",
        "outputId": "d9dd114e-acfb-4fb0-d388-32a2d18df0b9",
        "colab": {
          "base_uri": "https://localhost:8080/",
          "height": 1000
        }
      },
      "source": [
        "epochs = 100\n",
        "model.train()\n",
        "y_norm = scaler.fit_transform(y.reshape(-1,1))\n",
        "y_norm = torch.FloatTensor(y_norm).view(-1)\n",
        "all_data = input_data(y_norm,window_size)\n",
        "import time\n",
        "start_time = time.time()\n",
        "for epoch in range(epochs):\n",
        "  for seq, y_train in train_data:\n",
        "    optimizer.zero_grad()\n",
        "    model.hidden = (torch.zeros(1,1,model.hidden_size),\n",
        "                   torch.zeros(1,1,model.hidden_size))\n",
        "    y_pred = model(seq)\n",
        "    loss = criterion(y_pred,y_train)\n",
        "    loss.backward()\n",
        "    optimizer.step()\n",
        "  print(f'Epoch {epoch} Loss {loss.item()}')\n",
        "total_time = time.time()-start_time\n",
        "print(total_time/60)"
      ],
      "execution_count": 0,
      "outputs": [
        {
          "output_type": "stream",
          "text": [
            "Epoch 0 Loss 0.0017398897325620055\n",
            "Epoch 1 Loss 0.0006724813138134778\n",
            "Epoch 2 Loss 0.00020308169769123197\n",
            "Epoch 3 Loss 0.000909644179046154\n",
            "Epoch 4 Loss 0.00028104244847781956\n",
            "Epoch 5 Loss 8.618609967925295e-07\n",
            "Epoch 6 Loss 0.0001974703191081062\n",
            "Epoch 7 Loss 0.0008151228539645672\n",
            "Epoch 8 Loss 0.0008965741144493222\n",
            "Epoch 9 Loss 0.0003282268880866468\n",
            "Epoch 10 Loss 0.0009272728930227458\n",
            "Epoch 11 Loss 9.702798706712201e-05\n",
            "Epoch 12 Loss 3.724017005879432e-07\n",
            "Epoch 13 Loss 2.8963584099983564e-06\n",
            "Epoch 14 Loss 0.0008662697509862483\n",
            "Epoch 15 Loss 0.00012870579666923732\n",
            "Epoch 16 Loss 0.0036257964093238115\n",
            "Epoch 17 Loss 0.0005904401186853647\n",
            "Epoch 18 Loss 2.2607453502132557e-05\n",
            "Epoch 19 Loss 1.2037384067298262e-06\n",
            "Epoch 20 Loss 0.0003781895211432129\n",
            "Epoch 21 Loss 4.592625919030979e-05\n",
            "Epoch 22 Loss 0.00019010216055903584\n",
            "Epoch 23 Loss 0.0001943840179592371\n",
            "Epoch 24 Loss 8.02674094302347e-06\n",
            "Epoch 25 Loss 0.0021555235143750906\n",
            "Epoch 26 Loss 0.00013322843005880713\n",
            "Epoch 27 Loss 8.728441571292933e-06\n",
            "Epoch 28 Loss 1.715456892270595e-05\n",
            "Epoch 29 Loss 0.0003922105534002185\n",
            "Epoch 30 Loss 0.0005267299129627645\n",
            "Epoch 31 Loss 0.00011881841055583209\n",
            "Epoch 32 Loss 5.911623884458095e-05\n",
            "Epoch 33 Loss 0.00017049383313860744\n",
            "Epoch 34 Loss 0.0004654290387406945\n",
            "Epoch 35 Loss 0.0015179787296801805\n",
            "Epoch 36 Loss 0.00020312416017986834\n",
            "Epoch 37 Loss 0.00015604487271048129\n",
            "Epoch 38 Loss 1.5209236607915955e-06\n",
            "Epoch 39 Loss 3.0028673791093752e-05\n",
            "Epoch 40 Loss 0.0006290121236816049\n",
            "Epoch 41 Loss 0.0005342505755834281\n",
            "Epoch 42 Loss 0.00023795328161213547\n",
            "Epoch 43 Loss 0.0017552124336361885\n",
            "Epoch 44 Loss 0.00020781187049578875\n",
            "Epoch 45 Loss 0.0008136944379657507\n",
            "Epoch 46 Loss 0.0006034024409018457\n",
            "Epoch 47 Loss 0.0003822460421361029\n",
            "Epoch 48 Loss 0.0002069413021672517\n",
            "Epoch 49 Loss 0.0005709825782105327\n",
            "Epoch 50 Loss 0.00025390463997609913\n",
            "Epoch 51 Loss 0.0010112851159647107\n",
            "Epoch 52 Loss 0.0006307855946943164\n",
            "Epoch 53 Loss 0.00021078120335005224\n",
            "Epoch 54 Loss 0.0009113546111620963\n",
            "Epoch 55 Loss 0.0005681375623680651\n",
            "Epoch 56 Loss 0.00022917687601875514\n",
            "Epoch 57 Loss 8.475792856188491e-05\n",
            "Epoch 58 Loss 6.740024400642142e-05\n",
            "Epoch 59 Loss 7.998395631148014e-06\n",
            "Epoch 60 Loss 0.00018468548660166562\n",
            "Epoch 61 Loss 0.00035937450593337417\n",
            "Epoch 62 Loss 0.00022025720681995153\n",
            "Epoch 63 Loss 0.0009532272815704346\n",
            "Epoch 64 Loss 0.00020892951579298824\n",
            "Epoch 65 Loss 0.0003016296832356602\n",
            "Epoch 66 Loss 2.1856330931768753e-05\n",
            "Epoch 67 Loss 4.984589759260416e-05\n",
            "Epoch 68 Loss 0.00016607191355433315\n",
            "Epoch 69 Loss 0.000221880545723252\n",
            "Epoch 70 Loss 5.2096238505328074e-05\n",
            "Epoch 71 Loss 1.1522828572196886e-05\n",
            "Epoch 72 Loss 0.0006051610689610243\n",
            "Epoch 73 Loss 2.0030203813803382e-05\n",
            "Epoch 74 Loss 0.0001312479143962264\n",
            "Epoch 75 Loss 0.0003423495218157768\n",
            "Epoch 76 Loss 0.0008151709334924817\n",
            "Epoch 77 Loss 9.168322867481038e-05\n",
            "Epoch 78 Loss 0.00039475850644521415\n",
            "Epoch 79 Loss 1.2383246428271377e-07\n",
            "Epoch 80 Loss 0.00032058756914921105\n",
            "Epoch 81 Loss 0.0003767044108826667\n",
            "Epoch 82 Loss 2.6594534574542195e-06\n",
            "Epoch 83 Loss 0.00016268012404907495\n",
            "Epoch 84 Loss 0.0005241025937721133\n",
            "Epoch 85 Loss 0.0006107877125032246\n",
            "Epoch 86 Loss 5.0832288252422586e-05\n",
            "Epoch 87 Loss 0.0003250694426242262\n",
            "Epoch 88 Loss 9.250074981537182e-07\n",
            "Epoch 89 Loss 9.206043614540249e-05\n",
            "Epoch 90 Loss 1.7953398767645012e-09\n",
            "Epoch 91 Loss 0.000128614527056925\n",
            "Epoch 92 Loss 4.1244835301768035e-05\n",
            "Epoch 93 Loss 3.8355346987373196e-06\n",
            "Epoch 94 Loss 0.00045117890113033354\n",
            "Epoch 95 Loss 0.00045576191041618586\n",
            "Epoch 96 Loss 2.17564756894717e-05\n",
            "Epoch 97 Loss 0.0011171462247148156\n",
            "Epoch 98 Loss 0.00042124110041186213\n",
            "Epoch 99 Loss 2.1901774971411214e-07\n",
            "1.4368239919344583\n"
          ],
          "name": "stdout"
        }
      ]
    },
    {
      "cell_type": "code",
      "metadata": {
        "id": "kQ2R0-j7o01f",
        "colab_type": "code",
        "colab": {}
      },
      "source": [
        "window_size = 12\n",
        "future = 12\n",
        "L = len(y)\n",
        "preds = y_norm[-window_size:].tolist()\n",
        "model.eval()\n",
        "for i in range(future):\n",
        "  seq = torch.FloatTensor(preds[-window_size:])\n",
        "  with torch.no_grad():\n",
        "    model.hidden = (torch.zeros(1,1,model.hidden_size),\n",
        "                   torch.zeros(1,1,model.hidden_size))\n",
        "    preds.append(model(seq).item())\n",
        "    "
      ],
      "execution_count": 0,
      "outputs": []
    },
    {
      "cell_type": "code",
      "metadata": {
        "id": "v5EMHYtCqBCJ",
        "colab_type": "code",
        "colab": {}
      },
      "source": [
        "true_predictions = scaler.inverse_transform(np.array(preds).reshape(-1,1))"
      ],
      "execution_count": 0,
      "outputs": []
    },
    {
      "cell_type": "code",
      "metadata": {
        "id": "9AfTKeg1qE7P",
        "colab_type": "code",
        "outputId": "6b288145-48b8-456f-aa26-5ec1c42b8b83",
        "colab": {
          "base_uri": "https://localhost:8080/",
          "height": 35
        }
      },
      "source": [
        "len(true_predictions)"
      ],
      "execution_count": 0,
      "outputs": [
        {
          "output_type": "execute_result",
          "data": {
            "text/plain": [
              "24"
            ]
          },
          "metadata": {
            "tags": []
          },
          "execution_count": 71
        }
      ]
    },
    {
      "cell_type": "code",
      "metadata": {
        "id": "pFaaVoGYqNUE",
        "colab_type": "code",
        "outputId": "2fb9f1a4-b6ed-479f-fb99-d996f995a922",
        "colab": {
          "base_uri": "https://localhost:8080/",
          "height": 239
        }
      },
      "source": [
        "x = np.arange('2019-02-01','2020-02-01',dtype='datetime64[M]').astype('datetime64')\n",
        "plt.figure(figsize=(12,4))\n",
        "plt.title('Beer, Wine and Alcohol Sales')\n",
        "plt.ylabel('Sales (millions of dollars')\n",
        "plt.grid(True)\n",
        "plt.autoscale(axis='x',tight=True)\n",
        "plt.plot(df['S4248SM144NCEN'])\n",
        "plt.plot(x,true_predictions[window_size:])\n",
        "plt.show()"
      ],
      "execution_count": 0,
      "outputs": [
        {
          "output_type": "display_data",
          "data": {
            "image/png": "[encoded data removed]",
            "text/plain": [
              "<Figure size 864x288 with 1 Axes>"
            ]
          },
          "metadata": {
            "tags": [],
            "needs_background": "light"
          }
        }
      ]
    },
    {
      "cell_type": "code",
      "metadata": {
        "id": "u-xXmxhYqaXL",
        "colab_type": "code",
        "outputId": "4f7e5701-f351-4d32-fe63-d41b11bcf7a4",
        "colab": {
          "base_uri": "https://localhost:8080/",
          "height": 241
        }
      },
      "source": [
        "fig = plt.figure(figsize=(12,4))\n",
        "plt.title('Beer, Wine and Alcohol Sales')\n",
        "plt.ylabel('Sales (millions of dollars')\n",
        "plt.grid(True)\n",
        "plt.autoscale(axis='x',tight=True)\n",
        "fig.autofmt_xdate()\n",
        "plt.plot(df['S4248SM144NCEN']['2017-01-01':])\n",
        "plt.plot(x,true_predictions[-window_size:])\n",
        "plt.show()"
      ],
      "execution_count": 0,
      "outputs": [
        {
          "output_type": "display_data",
          "data": {
            "image/png": "[encoded data removed]",
            "text/plain": [
              "<Figure size 864x288 with 1 Axes>"
            ]
          },
          "metadata": {
            "tags": [],
            "needs_background": "light"
          }
        }
      ]
    },
    {
      "cell_type": "code",
      "metadata": {
        "id": "YDQSPLoLu9VT",
        "colab_type": "code",
        "outputId": "5a9bea83-a493-4418-97a0-2d4c6ea02533",
        "colab": {
          "base_uri": "https://localhost:8080/",
          "height": 35
        }
      },
      "source": [
        "len(true_predictions)"
      ],
      "execution_count": 0,
      "outputs": [
        {
          "output_type": "execute_result",
          "data": {
            "text/plain": [
              "24"
            ]
          },
          "metadata": {
            "tags": []
          },
          "execution_count": 64
        }
      ]
    },
    {
      "cell_type": "code",
      "metadata": {
        "id": "0_VkqC_WvVh-",
        "colab_type": "code",
        "colab": {}
      },
      "source": [
        ""
      ],
      "execution_count": 0,
      "outputs": []
    }
  ]
}
