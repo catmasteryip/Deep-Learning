{
  "nbformat": 4,
  "nbformat_minor": 0,
  "metadata": {
    "colab": {
      "name": "CIFAR10 CNN.ipynb",
      "provenance": [],
      "collapsed_sections": [],
      "mount_file_id": "1Ya32iehD_wAf1TcnmRQccOFH2r7W3WCY",
      "authorship_tag": "ABX9TyMW+kq1DqNoibUQ7MJISCEn",
      "include_colab_link": true
    },
    "kernelspec": {
      "name": "python3",
      "display_name": "Python 3"
    },
    "accelerator": "GPU",
    "widgets": {
      "application/vnd.jupyter.widget-state+json": {
        "ab8593e11d7d43d0ba5f39118e9acdf3": {
          "model_module": "@jupyter-widgets/controls",
          "model_name": "HBoxModel",
          "state": {
            "_view_name": "HBoxView",
            "_dom_classes": [],
            "_model_name": "HBoxModel",
            "_view_module": "@jupyter-widgets/controls",
            "_model_module_version": "1.5.0",
            "_view_count": null,
            "_view_module_version": "1.5.0",
            "box_style": "",
            "layout": "IPY_MODEL_74fafd7112714925b028ef670084f279",
            "_model_module": "@jupyter-widgets/controls",
            "children": [
              "IPY_MODEL_ab8bfa0c163d445188d9e4f950e9b090",
              "IPY_MODEL_0cd0c8ec86014073a95c3485ea73b010"
            ]
          }
        },
        "74fafd7112714925b028ef670084f279": {
          "model_module": "@jupyter-widgets/base",
          "model_name": "LayoutModel",
          "state": {
            "_view_name": "LayoutView",
            "grid_template_rows": null,
            "right": null,
            "justify_content": null,
            "_view_module": "@jupyter-widgets/base",
            "overflow": null,
            "_model_module_version": "1.2.0",
            "_view_count": null,
            "flex_flow": null,
            "width": null,
            "min_width": null,
            "border": null,
            "align_items": null,
            "bottom": null,
            "_model_module": "@jupyter-widgets/base",
            "top": null,
            "grid_column": null,
            "overflow_y": null,
            "overflow_x": null,
            "grid_auto_flow": null,
            "grid_area": null,
            "grid_template_columns": null,
            "flex": null,
            "_model_name": "LayoutModel",
            "justify_items": null,
            "grid_row": null,
            "max_height": null,
            "align_content": null,
            "visibility": null,
            "align_self": null,
            "height": null,
            "min_height": null,
            "padding": null,
            "grid_auto_rows": null,
            "grid_gap": null,
            "max_width": null,
            "order": null,
            "_view_module_version": "1.2.0",
            "grid_template_areas": null,
            "object_position": null,
            "object_fit": null,
            "grid_auto_columns": null,
            "margin": null,
            "display": null,
            "left": null
          }
        },
        "ab8bfa0c163d445188d9e4f950e9b090": {
          "model_module": "@jupyter-widgets/controls",
          "model_name": "FloatProgressModel",
          "state": {
            "_view_name": "ProgressView",
            "style": "IPY_MODEL_5412fb2e786d4d06a125904ea449cba2",
            "_dom_classes": [],
            "description": "",
            "_model_name": "FloatProgressModel",
            "bar_style": "info",
            "max": 1,
            "_view_module": "@jupyter-widgets/controls",
            "_model_module_version": "1.5.0",
            "value": 1,
            "_view_count": null,
            "_view_module_version": "1.5.0",
            "orientation": "horizontal",
            "min": 0,
            "description_tooltip": null,
            "_model_module": "@jupyter-widgets/controls",
            "layout": "IPY_MODEL_d89f9f3dad4a43eaa4fd397663cdd007"
          }
        },
        "0cd0c8ec86014073a95c3485ea73b010": {
          "model_module": "@jupyter-widgets/controls",
          "model_name": "HTMLModel",
          "state": {
            "_view_name": "HTMLView",
            "style": "IPY_MODEL_3f7a08df852c4c4f93bc327e09d7d5be",
            "_dom_classes": [],
            "description": "",
            "_model_name": "HTMLModel",
            "placeholder": "​",
            "_view_module": "@jupyter-widgets/controls",
            "_model_module_version": "1.5.0",
            "value": " 170500096/? [00:20&lt;00:00, 34106418.62it/s]",
            "_view_count": null,
            "_view_module_version": "1.5.0",
            "description_tooltip": null,
            "_model_module": "@jupyter-widgets/controls",
            "layout": "IPY_MODEL_59f1e1af39fc4680bb40f787682556ad"
          }
        },
        "5412fb2e786d4d06a125904ea449cba2": {
          "model_module": "@jupyter-widgets/controls",
          "model_name": "ProgressStyleModel",
          "state": {
            "_view_name": "StyleView",
            "_model_name": "ProgressStyleModel",
            "description_width": "initial",
            "_view_module": "@jupyter-widgets/base",
            "_model_module_version": "1.5.0",
            "_view_count": null,
            "_view_module_version": "1.2.0",
            "bar_color": null,
            "_model_module": "@jupyter-widgets/controls"
          }
        },
        "d89f9f3dad4a43eaa4fd397663cdd007": {
          "model_module": "@jupyter-widgets/base",
          "model_name": "LayoutModel",
          "state": {
            "_view_name": "LayoutView",
            "grid_template_rows": null,
            "right": null,
            "justify_content": null,
            "_view_module": "@jupyter-widgets/base",
            "overflow": null,
            "_model_module_version": "1.2.0",
            "_view_count": null,
            "flex_flow": null,
            "width": null,
            "min_width": null,
            "border": null,
            "align_items": null,
            "bottom": null,
            "_model_module": "@jupyter-widgets/base",
            "top": null,
            "grid_column": null,
            "overflow_y": null,
            "overflow_x": null,
            "grid_auto_flow": null,
            "grid_area": null,
            "grid_template_columns": null,
            "flex": null,
            "_model_name": "LayoutModel",
            "justify_items": null,
            "grid_row": null,
            "max_height": null,
            "align_content": null,
            "visibility": null,
            "align_self": null,
            "height": null,
            "min_height": null,
            "padding": null,
            "grid_auto_rows": null,
            "grid_gap": null,
            "max_width": null,
            "order": null,
            "_view_module_version": "1.2.0",
            "grid_template_areas": null,
            "object_position": null,
            "object_fit": null,
            "grid_auto_columns": null,
            "margin": null,
            "display": null,
            "left": null
          }
        },
        "3f7a08df852c4c4f93bc327e09d7d5be": {
          "model_module": "@jupyter-widgets/controls",
          "model_name": "DescriptionStyleModel",
          "state": {
            "_view_name": "StyleView",
            "_model_name": "DescriptionStyleModel",
            "description_width": "",
            "_view_module": "@jupyter-widgets/base",
            "_model_module_version": "1.5.0",
            "_view_count": null,
            "_view_module_version": "1.2.0",
            "_model_module": "@jupyter-widgets/controls"
          }
        },
        "59f1e1af39fc4680bb40f787682556ad": {
          "model_module": "@jupyter-widgets/base",
          "model_name": "LayoutModel",
          "state": {
            "_view_name": "LayoutView",
            "grid_template_rows": null,
            "right": null,
            "justify_content": null,
            "_view_module": "@jupyter-widgets/base",
            "overflow": null,
            "_model_module_version": "1.2.0",
            "_view_count": null,
            "flex_flow": null,
            "width": null,
            "min_width": null,
            "border": null,
            "align_items": null,
            "bottom": null,
            "_model_module": "@jupyter-widgets/base",
            "top": null,
            "grid_column": null,
            "overflow_y": null,
            "overflow_x": null,
            "grid_auto_flow": null,
            "grid_area": null,
            "grid_template_columns": null,
            "flex": null,
            "_model_name": "LayoutModel",
            "justify_items": null,
            "grid_row": null,
            "max_height": null,
            "align_content": null,
            "visibility": null,
            "align_self": null,
            "height": null,
            "min_height": null,
            "padding": null,
            "grid_auto_rows": null,
            "grid_gap": null,
            "max_width": null,
            "order": null,
            "_view_module_version": "1.2.0",
            "grid_template_areas": null,
            "object_position": null,
            "object_fit": null,
            "grid_auto_columns": null,
            "margin": null,
            "display": null,
            "left": null
          }
        }
      }
    }
  },
  "cells": [
    {
      "cell_type": "markdown",
      "metadata": {
        "id": "view-in-github",
        "colab_type": "text"
      },
      "source": [
        "<a href=\"https://colab.research.google.com/github/catmasteryip/Deep-Learning/blob/master/CIFAR10_CNN.ipynb\" target=\"_parent\"><img src=\"https://colab.research.google.com/assets/colab-badge.svg\" alt=\"Open In Colab\"/></a>"
      ]
    },
    {
      "cell_type": "markdown",
      "metadata": {
        "id": "_oWB4dw9NcJT",
        "colab_type": "text"
      },
      "source": [
        "Import libraries"
      ]
    },
    {
      "cell_type": "code",
      "metadata": {
        "id": "7NbCnop-MttJ",
        "colab_type": "code",
        "colab": {}
      },
      "source": [
        "import torch\n",
        "import torch.nn as nn\n",
        "import torch.nn.functional as F\n",
        "from torch.utils.data import DataLoader\n",
        "from torchvision import datasets, transforms\n",
        "from torchvision.utils import make_grid\n",
        "\n",
        "import numpy as np\n",
        "import pandas as pd\n",
        "from sklearn.metrics import confusion_matrix\n",
        "import matplotlib.pyplot as plt\n",
        "%matplotlib inline"
      ],
      "execution_count": 0,
      "outputs": []
    },
    {
      "cell_type": "code",
      "metadata": {
        "id": "NMF05OZGNJ9x",
        "colab_type": "code",
        "colab": {}
      },
      "source": [
        "transform = transforms.ToTensor()"
      ],
      "execution_count": 0,
      "outputs": []
    },
    {
      "cell_type": "code",
      "metadata": {
        "id": "WBzvmXmnNMv_",
        "colab_type": "code",
        "colab": {
          "base_uri": "https://localhost:8080/",
          "height": 103,
          "referenced_widgets": [
            "ab8593e11d7d43d0ba5f39118e9acdf3",
            "74fafd7112714925b028ef670084f279",
            "ab8bfa0c163d445188d9e4f950e9b090",
            "0cd0c8ec86014073a95c3485ea73b010",
            "5412fb2e786d4d06a125904ea449cba2",
            "d89f9f3dad4a43eaa4fd397663cdd007",
            "3f7a08df852c4c4f93bc327e09d7d5be",
            "59f1e1af39fc4680bb40f787682556ad"
          ]
        },
        "outputId": "88dee83e-932b-430a-f358-763e2ac50ddf"
      },
      "source": [
        "train_data = datasets.CIFAR10(root='sample_data',train=True,download=True,transform=transform)"
      ],
      "execution_count": 3,
      "outputs": [
        {
          "output_type": "stream",
          "text": [
            "Downloading https://www.cs.toronto.edu/~kriz/cifar-10-python.tar.gz to sample_data/cifar-10-python.tar.gz\n"
          ],
          "name": "stdout"
        },
        {
          "output_type": "display_data",
          "data": {
            "application/vnd.jupyter.widget-view+json": {
              "model_id": "ab8593e11d7d43d0ba5f39118e9acdf3",
              "version_minor": 0,
              "version_major": 2
            },
            "text/plain": [
              "HBox(children=(FloatProgress(value=1.0, bar_style='info', max=1.0), HTML(value='')))"
            ]
          },
          "metadata": {
            "tags": []
          }
        },
        {
          "output_type": "stream",
          "text": [
            "Extracting sample_data/cifar-10-python.tar.gz to sample_data\n"
          ],
          "name": "stdout"
        }
      ]
    },
    {
      "cell_type": "code",
      "metadata": {
        "id": "yQV4BKiRNVNA",
        "colab_type": "code",
        "colab": {
          "base_uri": "https://localhost:8080/",
          "height": 34
        },
        "outputId": "521f52ac-ffa3-4543-b96c-a3a1189990ed"
      },
      "source": [
        "test_data = datasets.CIFAR10(root='sample_data',train=False,download=True,transform=transform)"
      ],
      "execution_count": 5,
      "outputs": [
        {
          "output_type": "stream",
          "text": [
            "Files already downloaded and verified\n"
          ],
          "name": "stdout"
        }
      ]
    },
    {
      "cell_type": "code",
      "metadata": {
        "id": "AbB9VFENNnfm",
        "colab_type": "code",
        "colab": {
          "base_uri": "https://localhost:8080/",
          "height": 120
        },
        "outputId": "040b6437-58fe-4e57-84ed-e49ab9ebc8fb"
      },
      "source": [
        "test_data"
      ],
      "execution_count": 6,
      "outputs": [
        {
          "output_type": "execute_result",
          "data": {
            "text/plain": [
              "Dataset CIFAR10\n",
              "    Number of datapoints: 10000\n",
              "    Root location: sample_data\n",
              "    Split: Test\n",
              "    StandardTransform\n",
              "Transform: ToTensor()"
            ]
          },
          "metadata": {
            "tags": []
          },
          "execution_count": 6
        }
      ]
    },
    {
      "cell_type": "code",
      "metadata": {
        "id": "zEUP3fWGNsi2",
        "colab_type": "code",
        "colab": {}
      },
      "source": [
        "torch.manual_seed(101)\n",
        "train_loader = DataLoader(train_data,batch_size=10,shuffle=True)\n",
        "test_loader = DataLoader(test_data,batch_size=10,shuffle=False)"
      ],
      "execution_count": 0,
      "outputs": []
    },
    {
      "cell_type": "code",
      "metadata": {
        "id": "14lQn8fXOoZR",
        "colab_type": "code",
        "colab": {}
      },
      "source": [
        "class_names = ['plane', '  car', ' bird', '  cat', ' deer', '  dog', ' frog', 'horse', ' ship', 'truck']"
      ],
      "execution_count": 0,
      "outputs": []
    },
    {
      "cell_type": "code",
      "metadata": {
        "id": "om4rK3rnO5Ev",
        "colab_type": "code",
        "colab": {}
      },
      "source": [
        "for images, labels in train_loader:\n",
        "  break"
      ],
      "execution_count": 0,
      "outputs": []
    },
    {
      "cell_type": "code",
      "metadata": {
        "id": "9RdOP0X-O9SA",
        "colab_type": "code",
        "colab": {
          "base_uri": "https://localhost:8080/",
          "height": 34
        },
        "outputId": "77385d81-525a-4a47-b028-1848146fe1c5"
      },
      "source": [
        "labels"
      ],
      "execution_count": 12,
      "outputs": [
        {
          "output_type": "execute_result",
          "data": {
            "text/plain": [
              "tensor([3, 2, 0, 4, 9, 5, 1, 2, 4, 8])"
            ]
          },
          "metadata": {
            "tags": []
          },
          "execution_count": 12
        }
      ]
    },
    {
      "cell_type": "code",
      "metadata": {
        "id": "2CxqFqj0O9v4",
        "colab_type": "code",
        "colab": {
          "base_uri": "https://localhost:8080/",
          "height": 285
        },
        "outputId": "ac7c7fef-7f57-45d9-de22-33b45dc969e2"
      },
      "source": [
        "im = make_grid(images,nrow=5)\n",
        "plt.figure(figsize=(10,4))\n",
        "plt.imshow(np.transpose(im.numpy(),(1,2,0)))"
      ],
      "execution_count": 14,
      "outputs": [
        {
          "output_type": "execute_result",
          "data": {
            "text/plain": [
              "<matplotlib.image.AxesImage at 0x7f9c4d739ac8>"
            ]
          },
          "metadata": {
            "tags": []
          },
          "execution_count": 14
        },
        {
          "output_type": "display_data",
          "data": {
            "image/png": "[encoded data removed]",
            "text/plain": [
              "<Figure size 720x288 with 1 Axes>"
            ]
          },
          "metadata": {
            "tags": [],
            "needs_background": "light"
          }
        }
      ]
    },
    {
      "cell_type": "markdown",
      "metadata": {
        "id": "1_tmJ0kEVVPs",
        "colab_type": "text"
      },
      "source": [
        "Define Model"
      ]
    },
    {
      "cell_type": "code",
      "metadata": {
        "id": "FiVoFfHjPKgW",
        "colab_type": "code",
        "colab": {}
      },
      "source": [
        "class CNN(nn.Module):\n",
        "  def __init__(self):\n",
        "    super().__init__()\n",
        "    self.conv1 = nn.Conv2d(3,6,5,1) #(1,6,5,1)\n",
        "    self.conv2 = nn.Conv2d(6,16,3,1)\n",
        "    #(((32-2)/2)-2)/2 = 6.5 = 6 px per side\n",
        "    #convolution, pooling, convolution, pooling\n",
        "    self.fc1 = nn.Linear(6*6*16,120)\n",
        "    self.fc2 = nn.Linear(120,84)\n",
        "    self.fc3 = nn.Linear(84,10)\n",
        "  def forward(self,X):\n",
        "    X = F.relu(self.conv1(X))\n",
        "    X = F.max_pool2d(X,2,2)\n",
        "    X = F.relu(self.conv2(X))\n",
        "    X = F.max_pool2d(X,2,2)\n",
        "    #flatten the image into a 6*6*16 vector\n",
        "    X = X.view(-1,6*6*16)\n",
        "    X = F.relu(self.fc1(X))\n",
        "    X = F.relu(self.fc2(X))\n",
        "    X = self.fc3(X)\n",
        "    return F.log_softmax(X,dim=1)"
      ],
      "execution_count": 0,
      "outputs": []
    },
    {
      "cell_type": "code",
      "metadata": {
        "id": "hmCRt3PkQQcw",
        "colab_type": "code",
        "colab": {
          "base_uri": "https://localhost:8080/",
          "height": 137
        },
        "outputId": "4546a497-a840-40c5-a4b6-fde5a68f8db8"
      },
      "source": [
        "torch.manual_seed(101)\n",
        "model = CNN()\n",
        "model"
      ],
      "execution_count": 17,
      "outputs": [
        {
          "output_type": "execute_result",
          "data": {
            "text/plain": [
              "CNN(\n",
              "  (conv1): Conv2d(3, 6, kernel_size=(5, 5), stride=(1, 1))\n",
              "  (conv2): Conv2d(6, 16, kernel_size=(3, 3), stride=(1, 1))\n",
              "  (fc1): Linear(in_features=576, out_features=120, bias=True)\n",
              "  (fc2): Linear(in_features=120, out_features=84, bias=True)\n",
              "  (fc3): Linear(in_features=84, out_features=10, bias=True)\n",
              ")"
            ]
          },
          "metadata": {
            "tags": []
          },
          "execution_count": 17
        }
      ]
    },
    {
      "cell_type": "markdown",
      "metadata": {
        "id": "VObx7NStVYDz",
        "colab_type": "text"
      },
      "source": [
        "No of parameters"
      ]
    },
    {
      "cell_type": "code",
      "metadata": {
        "id": "xdi3UIDMQT-D",
        "colab_type": "code",
        "colab": {
          "base_uri": "https://localhost:8080/",
          "height": 34
        },
        "outputId": "ff975268-2f77-4b5e-a797-4ea2ee8d3f5c"
      },
      "source": [
        "sum_of_param = 0\n",
        "for param in model.parameters():\n",
        "  sum_of_param += param.numel()\n",
        "print(sum_of_param)"
      ],
      "execution_count": 20,
      "outputs": [
        {
          "output_type": "stream",
          "text": [
            "81590\n"
          ],
          "name": "stdout"
        }
      ]
    },
    {
      "cell_type": "markdown",
      "metadata": {
        "id": "yYr1e_JaVZtD",
        "colab_type": "text"
      },
      "source": [
        "Set criterion and optimizer"
      ]
    },
    {
      "cell_type": "code",
      "metadata": {
        "id": "h91owSRhRLUp",
        "colab_type": "code",
        "colab": {}
      },
      "source": [
        "criterion = nn.CrossEntropyLoss()\n",
        "optimizer = torch.optim.Adam(model.parameters(),lr=0.001)"
      ],
      "execution_count": 0,
      "outputs": []
    },
    {
      "cell_type": "markdown",
      "metadata": {
        "id": "4RtGynIoVckE",
        "colab_type": "text"
      },
      "source": [
        "Training and tracking losses"
      ]
    },
    {
      "cell_type": "code",
      "metadata": {
        "id": "hOELh4GDRQeZ",
        "colab_type": "code",
        "colab": {
          "base_uri": "https://localhost:8080/",
          "height": 906
        },
        "outputId": "6ed9b274-c426-482a-d9d6-d26a998ebfd6"
      },
      "source": [
        "import time\n",
        "start_time = time.time()\n",
        "\n",
        "epochs = 10\n",
        "train_losses = []\n",
        "test_losses = []\n",
        "train_correct = []\n",
        "test_correct = []\n",
        "\n",
        "for i in range(epochs):\n",
        "    trn_corr = 0\n",
        "    tst_corr = 0\n",
        "    \n",
        "    # Run the training batches\n",
        "    for b, (X_train, y_train) in enumerate(train_loader):\n",
        "        b+=1\n",
        "        \n",
        "        # Apply the model\n",
        "        y_pred = model(X_train)\n",
        "        loss = criterion(y_pred, y_train)\n",
        " \n",
        "        # Tally the number of correct predictions\n",
        "        predicted = torch.max(y_pred.data, 1)[1]\n",
        "        batch_corr = (predicted == y_train).sum()\n",
        "        trn_corr += batch_corr\n",
        "        \n",
        "        # Update parameters\n",
        "        optimizer.zero_grad()\n",
        "        loss.backward()\n",
        "        optimizer.step()\n",
        "        \n",
        "        # Print interim results\n",
        "        if b%1000 == 0:\n",
        "            print(f'epoch: {i:2}  batch: {b:4} [{10*b:6}/50000]  loss: {loss.item():10.8f}  \\\n",
        "accuracy: {trn_corr.item()*100/(10*b):7.3f}%')\n",
        "        \n",
        "    train_losses.append(loss)\n",
        "    train_correct.append(trn_corr)\n",
        "        \n",
        "    # Run the testing batches\n",
        "    with torch.no_grad():\n",
        "        for b, (X_test, y_test) in enumerate(test_loader):\n",
        "\n",
        "            # Apply the model\n",
        "            y_val = model(X_test)\n",
        "\n",
        "            # Tally the number of correct predictions\n",
        "            predicted = torch.max(y_val.data, 1)[1] \n",
        "            tst_corr += (predicted == y_test).sum()\n",
        "            \n",
        "    loss = criterion(y_val, y_test)\n",
        "    test_losses.append(loss)\n",
        "    test_correct.append(tst_corr)\n",
        "        \n",
        "print(f'\\nDuration: {time.time() - start_time:.0f} seconds') # print the time elapsed            "
      ],
      "execution_count": 22,
      "outputs": [
        {
          "output_type": "stream",
          "text": [
            "epoch:  0  batch: 1000 [ 10000/50000]  loss: 1.64397550  accuracy:  27.220%\n",
            "epoch:  0  batch: 2000 [ 20000/50000]  loss: 1.34126639  accuracy:  33.120%\n",
            "epoch:  0  batch: 3000 [ 30000/50000]  loss: 1.90066683  accuracy:  36.640%\n",
            "epoch:  0  batch: 4000 [ 40000/50000]  loss: 1.60579610  accuracy:  39.023%\n",
            "epoch:  0  batch: 5000 [ 50000/50000]  loss: 2.21494412  accuracy:  40.840%\n",
            "epoch:  1  batch: 1000 [ 10000/50000]  loss: 1.26989377  accuracy:  50.050%\n",
            "epoch:  1  batch: 2000 [ 20000/50000]  loss: 1.71420288  accuracy:  50.525%\n",
            "epoch:  1  batch: 3000 [ 30000/50000]  loss: 0.83952016  accuracy:  50.800%\n",
            "epoch:  1  batch: 4000 [ 40000/50000]  loss: 1.12069774  accuracy:  51.212%\n",
            "epoch:  1  batch: 5000 [ 50000/50000]  loss: 1.45792830  accuracy:  51.682%\n",
            "epoch:  2  batch: 1000 [ 10000/50000]  loss: 0.92928541  accuracy:  56.040%\n",
            "epoch:  2  batch: 2000 [ 20000/50000]  loss: 1.03454006  accuracy:  56.370%\n",
            "epoch:  2  batch: 3000 [ 30000/50000]  loss: 1.40866721  accuracy:  56.423%\n",
            "epoch:  2  batch: 4000 [ 40000/50000]  loss: 1.19132853  accuracy:  56.245%\n",
            "epoch:  2  batch: 5000 [ 50000/50000]  loss: 0.71048313  accuracy:  56.234%\n",
            "epoch:  3  batch: 1000 [ 10000/50000]  loss: 2.49494290  accuracy:  58.360%\n",
            "epoch:  3  batch: 2000 [ 20000/50000]  loss: 0.95513427  accuracy:  58.535%\n",
            "epoch:  3  batch: 3000 [ 30000/50000]  loss: 1.42383742  accuracy:  58.593%\n",
            "epoch:  3  batch: 4000 [ 40000/50000]  loss: 1.12673259  accuracy:  58.725%\n",
            "epoch:  3  batch: 5000 [ 50000/50000]  loss: 1.11471307  accuracy:  58.826%\n",
            "epoch:  4  batch: 1000 [ 10000/50000]  loss: 1.01411796  accuracy:  61.000%\n",
            "epoch:  4  batch: 2000 [ 20000/50000]  loss: 1.21697497  accuracy:  61.075%\n",
            "epoch:  4  batch: 3000 [ 30000/50000]  loss: 1.05880773  accuracy:  60.953%\n",
            "epoch:  4  batch: 4000 [ 40000/50000]  loss: 0.66651714  accuracy:  61.090%\n",
            "epoch:  4  batch: 5000 [ 50000/50000]  loss: 1.41099238  accuracy:  60.972%\n",
            "epoch:  5  batch: 1000 [ 10000/50000]  loss: 0.88318127  accuracy:  62.910%\n",
            "epoch:  5  batch: 2000 [ 20000/50000]  loss: 0.50908458  accuracy:  62.835%\n",
            "epoch:  5  batch: 3000 [ 30000/50000]  loss: 0.61097968  accuracy:  62.653%\n",
            "epoch:  5  batch: 4000 [ 40000/50000]  loss: 1.40365219  accuracy:  62.380%\n",
            "epoch:  5  batch: 5000 [ 50000/50000]  loss: 1.71357751  accuracy:  62.340%\n",
            "epoch:  6  batch: 1000 [ 10000/50000]  loss: 0.79563862  accuracy:  64.510%\n",
            "epoch:  6  batch: 2000 [ 20000/50000]  loss: 1.68443394  accuracy:  64.395%\n",
            "epoch:  6  batch: 3000 [ 30000/50000]  loss: 1.48026299  accuracy:  63.797%\n",
            "epoch:  6  batch: 4000 [ 40000/50000]  loss: 1.17493379  accuracy:  63.710%\n",
            "epoch:  6  batch: 5000 [ 50000/50000]  loss: 1.34803557  accuracy:  63.672%\n",
            "epoch:  7  batch: 1000 [ 10000/50000]  loss: 0.99257135  accuracy:  66.030%\n",
            "epoch:  7  batch: 2000 [ 20000/50000]  loss: 0.93815643  accuracy:  65.820%\n",
            "epoch:  7  batch: 3000 [ 30000/50000]  loss: 0.94716436  accuracy:  65.157%\n",
            "epoch:  7  batch: 4000 [ 40000/50000]  loss: 1.40597951  accuracy:  64.915%\n",
            "epoch:  7  batch: 5000 [ 50000/50000]  loss: 1.42704630  accuracy:  64.810%\n",
            "epoch:  8  batch: 1000 [ 10000/50000]  loss: 0.72788465  accuracy:  66.990%\n",
            "epoch:  8  batch: 2000 [ 20000/50000]  loss: 1.27898848  accuracy:  66.075%\n",
            "epoch:  8  batch: 3000 [ 30000/50000]  loss: 1.05199409  accuracy:  66.170%\n",
            "epoch:  8  batch: 4000 [ 40000/50000]  loss: 0.71496052  accuracy:  65.985%\n",
            "epoch:  8  batch: 5000 [ 50000/50000]  loss: 0.76488602  accuracy:  65.852%\n",
            "epoch:  9  batch: 1000 [ 10000/50000]  loss: 1.37866080  accuracy:  67.700%\n",
            "epoch:  9  batch: 2000 [ 20000/50000]  loss: 0.57657886  accuracy:  67.580%\n",
            "epoch:  9  batch: 3000 [ 30000/50000]  loss: 1.11277318  accuracy:  67.390%\n",
            "epoch:  9  batch: 4000 [ 40000/50000]  loss: 0.62728918  accuracy:  67.028%\n",
            "epoch:  9  batch: 5000 [ 50000/50000]  loss: 1.60215688  accuracy:  66.760%\n",
            "\n",
            "Duration: 311 seconds\n"
          ],
          "name": "stdout"
        }
      ]
    },
    {
      "cell_type": "markdown",
      "metadata": {
        "id": "WJ3QnFdNVfxu",
        "colab_type": "text"
      },
      "source": [
        "Save model"
      ]
    },
    {
      "cell_type": "code",
      "metadata": {
        "id": "Ra6eGRn_RvJV",
        "colab_type": "code",
        "colab": {}
      },
      "source": [
        "torch.save(model.state_dict(),'myCIFARmodel.pt')"
      ],
      "execution_count": 0,
      "outputs": []
    },
    {
      "cell_type": "markdown",
      "metadata": {
        "id": "nz1qCB6wVg8U",
        "colab_type": "text"
      },
      "source": [
        "Plot losses"
      ]
    },
    {
      "cell_type": "code",
      "metadata": {
        "id": "RlA65LxiTfJv",
        "colab_type": "code",
        "colab": {
          "base_uri": "https://localhost:8080/",
          "height": 298
        },
        "outputId": "b95bc480-17d2-402a-ee9e-c741e8bf9d8a"
      },
      "source": [
        "plt.plot(train_losses,label = 'training loss')\n",
        "plt.plot(test_losses,label='validation loss')\n",
        "plt.title('Loss at the end of each epoch')\n",
        "plt.legend()"
      ],
      "execution_count": 24,
      "outputs": [
        {
          "output_type": "execute_result",
          "data": {
            "text/plain": [
              "<matplotlib.legend.Legend at 0x7f9c4d0a0c18>"
            ]
          },
          "metadata": {
            "tags": []
          },
          "execution_count": 24
        },
        {
          "output_type": "display_data",
          "data": {
            "image/png": "[encoded data removed]",
            "text/plain": [
              "<Figure size 432x288 with 1 Axes>"
            ]
          },
          "metadata": {
            "tags": [],
            "needs_background": "light"
          }
        }
      ]
    },
    {
      "cell_type": "markdown",
      "metadata": {
        "id": "SCPF_7rlVjOa",
        "colab_type": "text"
      },
      "source": [
        "Plot accuracies"
      ]
    },
    {
      "cell_type": "code",
      "metadata": {
        "id": "XE2RxFpwTs9V",
        "colab_type": "code",
        "colab": {
          "base_uri": "https://localhost:8080/",
          "height": 318
        },
        "outputId": "48396878-e3f5-4667-b815-7434c37148bc"
      },
      "source": [
        "plt.plot([t/500 for t in train_correct], label='training accuracy')\n",
        "plt.plot([t/100 for t in test_correct], label='validation accuracy')\n",
        "plt.title('Accuracy at the end of each epoch')\n",
        "plt.legend();"
      ],
      "execution_count": 25,
      "outputs": [
        {
          "output_type": "stream",
          "text": [
            "/pytorch/aten/src/ATen/native/BinaryOps.cpp:81: UserWarning: Integer division of tensors using div or / is deprecated, and in a future release div will perform true division as in Python 3. Use true_divide or floor_divide (// in Python) instead.\n"
          ],
          "name": "stderr"
        },
        {
          "output_type": "display_data",
          "data": {
            "image/png": "[encoded data removed]",
            "text/plain": [
              "<Figure size 432x288 with 1 Axes>"
            ]
          },
          "metadata": {
            "tags": [],
            "needs_background": "light"
          }
        }
      ]
    },
    {
      "cell_type": "code",
      "metadata": {
        "id": "IR20_1iJT2cK",
        "colab_type": "code",
        "colab": {
          "base_uri": "https://localhost:8080/",
          "height": 34
        },
        "outputId": "cfc72f49-7b49-4a42-a2b1-4368882e2352"
      },
      "source": [
        "print(test_correct[-1].item()*100/10000)"
      ],
      "execution_count": 28,
      "outputs": [
        {
          "output_type": "stream",
          "text": [
            "61.01\n"
          ],
          "name": "stdout"
        }
      ]
    },
    {
      "cell_type": "markdown",
      "metadata": {
        "id": "WdYLmw4uVmHy",
        "colab_type": "text"
      },
      "source": [
        "Confusion Matrix, low recall in trucks and cars"
      ]
    },
    {
      "cell_type": "code",
      "metadata": {
        "id": "PgZswd_WUIaP",
        "colab_type": "code",
        "colab": {
          "base_uri": "https://localhost:8080/",
          "height": 442
        },
        "outputId": "d04dab99-7e16-4382-db96-6d6a890bd1ee"
      },
      "source": [
        "# Create a loader for the entire the test set\n",
        "test_load_all = DataLoader(test_data, batch_size=10000, shuffle=False)\n",
        "\n",
        "with torch.no_grad():\n",
        "    correct = 0\n",
        "    for X_test, y_test in test_load_all:\n",
        "        y_val = model(X_test)\n",
        "        predicted = torch.max(y_val,1)[1]\n",
        "        correct += (predicted == y_test).sum()\n",
        "\n",
        "arr = confusion_matrix(y_test.view(-1), predicted.view(-1))\n",
        "df_cm = pd.DataFrame(arr, class_names, class_names)\n",
        "plt.figure(figsize = (9,6))\n",
        "import seaborn as sn\n",
        "sn.heatmap(df_cm, annot=True, fmt=\"d\", cmap='BuGn')\n",
        "plt.xlabel(\"prediction\")\n",
        "plt.ylabel(\"label (ground truth)\")\n",
        "plt.show();"
      ],
      "execution_count": 30,
      "outputs": [
        {
          "output_type": "stream",
          "text": [
            "/usr/local/lib/python3.6/dist-packages/statsmodels/tools/_testing.py:19: FutureWarning: pandas.util.testing is deprecated. Use the functions in the public API at pandas.testing instead.\n",
            "  import pandas.util.testing as tm\n"
          ],
          "name": "stderr"
        },
        {
          "output_type": "display_data",
          "data": {
            "image/png": "[encoded data removed]",
            "text/plain": [
              "<Figure size 648x432 with 2 Axes>"
            ]
          },
          "metadata": {
            "tags": [],
            "needs_background": "light"
          }
        }
      ]
    },
    {
      "cell_type": "code",
      "metadata": {
        "id": "JsFLMSAKUXmx",
        "colab_type": "code",
        "colab": {}
      },
      "source": [
        ""
      ],
      "execution_count": 0,
      "outputs": []
    }
  ]
}